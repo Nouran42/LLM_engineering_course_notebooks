{
 "cells": [
  {
   "cell_type": "markdown",
   "id": "fe12c203-e6a6-452c-a655-afb8a03a4ff5",
   "metadata": {},
   "source": [
    "# Building a tool to answer technical questions with explanation\n",
    "\n",
    "To demonstrate your familiarity Ollama, build a tool that takes a technical question,  \n",
    "and responds with an explanation. This is a tool that you will be able to use yourself during the course!"
   ]
  },
  {
   "cell_type": "code",
   "execution_count": 3,
   "id": "8f5f6da3-0289-4aac-8d48-e1098eeda081",
   "metadata": {},
   "outputs": [
    {
     "name": "stderr",
     "output_type": "stream",
     "text": [
      "\u001b[?2026h\u001b[?25l\u001b[1Gpulling manifest â ‹ \u001b[K\u001b[?25h\u001b[?2026l\u001b[?2026h\u001b[?25l\u001b[1Gpulling manifest â ™ \u001b[K\u001b[?25h\u001b[?2026l\u001b[?2026h\u001b[?25l\u001b[1Gpulling manifest â ¹ \u001b[K\u001b[?25h\u001b[?2026l\u001b[?2026h\u001b[?25l\u001b[1Gpulling manifest â ¸ \u001b[K\u001b[?25h\u001b[?2026l\u001b[?2026h\u001b[?25l\u001b[1Gpulling manifest â ¼ \u001b[K\u001b[?25h\u001b[?2026l\u001b[?2026h\u001b[?25l\u001b[1Gpulling manifest â ´ \u001b[K\u001b[?25h\u001b[?2026l\u001b[?2026h\u001b[?25l\u001b[1Gpulling manifest â ¦ \u001b[K\u001b[?25h\u001b[?2026l\u001b[?2026h\u001b[?25l\u001b[1Gpulling manifest â § \u001b[K\u001b[?25h\u001b[?2026l\u001b[?2026h\u001b[?25l\u001b[1Gpulling manifest â ‡ \u001b[K\u001b[?25h\u001b[?2026l\u001b[?2026h\u001b[?25l\u001b[1Gpulling manifest â � \u001b[K\u001b[?25h\u001b[?2026l\u001b[?2026h\u001b[?25l\u001b[1Gpulling manifest â ‹ \u001b[K\u001b[?25h\u001b[?2026l\u001b[?2026h\u001b[?25l\u001b[1Gpulling manifest \u001b[K\n",
      "pulling dde5aa3fc5ff: 100% â–•â–ˆâ–ˆâ–ˆâ–ˆâ–ˆâ–ˆâ–ˆâ–ˆâ–ˆâ–ˆâ–ˆâ–ˆâ–ˆâ–ˆâ–ˆâ–ˆâ–ˆâ–ˆâ–� 2.0 GB                         \u001b[K\n",
      "pulling 966de95ca8a6: 100% â–•â–ˆâ–ˆâ–ˆâ–ˆâ–ˆâ–ˆâ–ˆâ–ˆâ–ˆâ–ˆâ–ˆâ–ˆâ–ˆâ–ˆâ–ˆâ–ˆâ–ˆâ–ˆâ–� 1.4 KB                         \u001b[K\n",
      "pulling fcc5a6bec9da: 100% â–•â–ˆâ–ˆâ–ˆâ–ˆâ–ˆâ–ˆâ–ˆâ–ˆâ–ˆâ–ˆâ–ˆâ–ˆâ–ˆâ–ˆâ–ˆâ–ˆâ–ˆâ–ˆâ–� 7.7 KB                         \u001b[K\n",
      "pulling a70ff7e570d9: 100% â–•â–ˆâ–ˆâ–ˆâ–ˆâ–ˆâ–ˆâ–ˆâ–ˆâ–ˆâ–ˆâ–ˆâ–ˆâ–ˆâ–ˆâ–ˆâ–ˆâ–ˆâ–ˆâ–� 6.0 KB                         \u001b[K\n",
      "pulling 56bb8bd477a5: 100% â–•â–ˆâ–ˆâ–ˆâ–ˆâ–ˆâ–ˆâ–ˆâ–ˆâ–ˆâ–ˆâ–ˆâ–ˆâ–ˆâ–ˆâ–ˆâ–ˆâ–ˆâ–ˆâ–�   96 B                         \u001b[K\n",
      "pulling 34bb5ab01051: 100% â–•â–ˆâ–ˆâ–ˆâ–ˆâ–ˆâ–ˆâ–ˆâ–ˆâ–ˆâ–ˆâ–ˆâ–ˆâ–ˆâ–ˆâ–ˆâ–ˆâ–ˆâ–ˆâ–�  561 B                         \u001b[K\n",
      "verifying sha256 digest \u001b[K\n",
      "writing manifest \u001b[K\n",
      "success \u001b[K\u001b[?25h\u001b[?2026l\n"
     ]
    }
   ],
   "source": [
    "!ollama pull llama3.2"
   ]
  },
  {
   "cell_type": "code",
   "execution_count": 5,
   "id": "68d758f7-633e-40b3-a2b0-d1297150e2b7",
   "metadata": {},
   "outputs": [
    {
     "name": "stdout",
     "output_type": "stream",
     "text": [
      "Collecting langchain-ollama\n",
      "  Downloading langchain_ollama-0.3.6-py3-none-any.whl.metadata (2.1 kB)\n",
      "Requirement already satisfied: ollama<1.0.0,>=0.5.1 in f:\\anaconda\\envs\\llms\\lib\\site-packages (from langchain-ollama) (0.5.1)\n",
      "Requirement already satisfied: langchain-core<1.0.0,>=0.3.70 in f:\\anaconda\\envs\\llms\\lib\\site-packages (from langchain-ollama) (0.3.72)\n",
      "Requirement already satisfied: langsmith>=0.3.45 in f:\\anaconda\\envs\\llms\\lib\\site-packages (from langchain-core<1.0.0,>=0.3.70->langchain-ollama) (0.4.10)\n",
      "Requirement already satisfied: tenacity!=8.4.0,<10.0.0,>=8.1.0 in f:\\anaconda\\envs\\llms\\lib\\site-packages (from langchain-core<1.0.0,>=0.3.70->langchain-ollama) (9.1.2)\n",
      "Requirement already satisfied: jsonpatch<2.0,>=1.33 in f:\\anaconda\\envs\\llms\\lib\\site-packages (from langchain-core<1.0.0,>=0.3.70->langchain-ollama) (1.33)\n",
      "Requirement already satisfied: PyYAML>=5.3 in f:\\anaconda\\envs\\llms\\lib\\site-packages (from langchain-core<1.0.0,>=0.3.70->langchain-ollama) (6.0.2)\n",
      "Requirement already satisfied: typing-extensions>=4.7 in f:\\anaconda\\envs\\llms\\lib\\site-packages (from langchain-core<1.0.0,>=0.3.70->langchain-ollama) (4.14.1)\n",
      "Requirement already satisfied: packaging>=23.2 in f:\\anaconda\\envs\\llms\\lib\\site-packages (from langchain-core<1.0.0,>=0.3.70->langchain-ollama) (25.0)\n",
      "Requirement already satisfied: pydantic>=2.7.4 in f:\\anaconda\\envs\\llms\\lib\\site-packages (from langchain-core<1.0.0,>=0.3.70->langchain-ollama) (2.11.7)\n",
      "Requirement already satisfied: jsonpointer>=1.9 in f:\\anaconda\\envs\\llms\\lib\\site-packages (from jsonpatch<2.0,>=1.33->langchain-core<1.0.0,>=0.3.70->langchain-ollama) (3.0.0)\n",
      "Requirement already satisfied: httpx>=0.27 in f:\\anaconda\\envs\\llms\\lib\\site-packages (from ollama<1.0.0,>=0.5.1->langchain-ollama) (0.28.1)\n",
      "Requirement already satisfied: anyio in f:\\anaconda\\envs\\llms\\lib\\site-packages (from httpx>=0.27->ollama<1.0.0,>=0.5.1->langchain-ollama) (4.10.0)\n",
      "Requirement already satisfied: certifi in f:\\anaconda\\envs\\llms\\lib\\site-packages (from httpx>=0.27->ollama<1.0.0,>=0.5.1->langchain-ollama) (2025.8.3)\n",
      "Requirement already satisfied: httpcore==1.* in f:\\anaconda\\envs\\llms\\lib\\site-packages (from httpx>=0.27->ollama<1.0.0,>=0.5.1->langchain-ollama) (1.0.9)\n",
      "Requirement already satisfied: idna in f:\\anaconda\\envs\\llms\\lib\\site-packages (from httpx>=0.27->ollama<1.0.0,>=0.5.1->langchain-ollama) (3.10)\n",
      "Requirement already satisfied: h11>=0.16 in f:\\anaconda\\envs\\llms\\lib\\site-packages (from httpcore==1.*->httpx>=0.27->ollama<1.0.0,>=0.5.1->langchain-ollama) (0.16.0)\n",
      "Requirement already satisfied: orjson>=3.9.14 in f:\\anaconda\\envs\\llms\\lib\\site-packages (from langsmith>=0.3.45->langchain-core<1.0.0,>=0.3.70->langchain-ollama) (3.11.1)\n",
      "Requirement already satisfied: requests-toolbelt>=1.0.0 in f:\\anaconda\\envs\\llms\\lib\\site-packages (from langsmith>=0.3.45->langchain-core<1.0.0,>=0.3.70->langchain-ollama) (1.0.0)\n",
      "Requirement already satisfied: requests>=2.0.0 in f:\\anaconda\\envs\\llms\\lib\\site-packages (from langsmith>=0.3.45->langchain-core<1.0.0,>=0.3.70->langchain-ollama) (2.32.4)\n",
      "Requirement already satisfied: zstandard>=0.23.0 in f:\\anaconda\\envs\\llms\\lib\\site-packages (from langsmith>=0.3.45->langchain-core<1.0.0,>=0.3.70->langchain-ollama) (0.23.0)\n",
      "Requirement already satisfied: annotated-types>=0.6.0 in f:\\anaconda\\envs\\llms\\lib\\site-packages (from pydantic>=2.7.4->langchain-core<1.0.0,>=0.3.70->langchain-ollama) (0.7.0)\n",
      "Requirement already satisfied: pydantic-core==2.33.2 in f:\\anaconda\\envs\\llms\\lib\\site-packages (from pydantic>=2.7.4->langchain-core<1.0.0,>=0.3.70->langchain-ollama) (2.33.2)\n",
      "Requirement already satisfied: typing-inspection>=0.4.0 in f:\\anaconda\\envs\\llms\\lib\\site-packages (from pydantic>=2.7.4->langchain-core<1.0.0,>=0.3.70->langchain-ollama) (0.4.1)\n",
      "Requirement already satisfied: charset_normalizer<4,>=2 in f:\\anaconda\\envs\\llms\\lib\\site-packages (from requests>=2.0.0->langsmith>=0.3.45->langchain-core<1.0.0,>=0.3.70->langchain-ollama) (3.4.2)\n",
      "Requirement already satisfied: urllib3<3,>=1.21.1 in f:\\anaconda\\envs\\llms\\lib\\site-packages (from requests>=2.0.0->langsmith>=0.3.45->langchain-core<1.0.0,>=0.3.70->langchain-ollama) (2.5.0)\n",
      "Requirement already satisfied: sniffio>=1.1 in f:\\anaconda\\envs\\llms\\lib\\site-packages (from anyio->httpx>=0.27->ollama<1.0.0,>=0.5.1->langchain-ollama) (1.3.1)\n",
      "Downloading langchain_ollama-0.3.6-py3-none-any.whl (24 kB)\n",
      "Installing collected packages: langchain-ollama\n",
      "Successfully installed langchain-ollama-0.3.6\n",
      "Note: you may need to restart the kernel to use updated packages.\n"
     ]
    }
   ],
   "source": [
    "pip install langchain-ollama"
   ]
  },
  {
   "cell_type": "code",
   "execution_count": 1,
   "id": "c1070317-3ed9-4659-abe3-828943230e03",
   "metadata": {},
   "outputs": [],
   "source": [
    "# imports\n",
    "from langchain_ollama import ChatOllama\n",
    "from langchain.prompts import ChatPromptTemplate\n",
    "from IPython.display import Markdown, display"
   ]
  },
  {
   "cell_type": "code",
   "execution_count": 2,
   "id": "4a456906-915a-4bfd-bb9d-57e505c5093f",
   "metadata": {},
   "outputs": [],
   "source": [
    "# constants\n",
    "MODEL_LLAMA = 'llama3.2'"
   ]
  },
  {
   "cell_type": "code",
   "execution_count": 5,
   "id": "15851574-1252-40a4-9161-cbfb2d8ade47",
   "metadata": {},
   "outputs": [],
   "source": [
    "llm = ChatOllama(\n",
    "    model=MODEL_LLAMA,\n",
    "    temperature=0.3\n",
    ")"
   ]
  },
  {
   "cell_type": "code",
   "execution_count": 7,
   "id": "3f0d0137-52b0-47a8-81a8-11a90a010798",
   "metadata": {},
   "outputs": [],
   "source": [
    "# Prompt template\n",
    "prompt_template = ChatPromptTemplate.from_template(\n",
    "    \"You are a technical tutor. Answer the following question in clear markdown:\\n\\n{question}\"\n",
    ")\n"
   ]
  },
  {
   "cell_type": "code",
   "execution_count": 8,
   "id": "60ce7000-a4a5-4cce-a261-e75ef45063b4",
   "metadata": {},
   "outputs": [],
   "source": [
    "def ask_tutor(question):\n",
    "    # Format prompt\n",
    "    prompt = prompt_template.format_messages(question=question)\n",
    "    \n",
    "    # Model inference\n",
    "    response = llm.invoke(prompt)\n",
    "    \n",
    "    # Render in Markdown\n",
    "    display(Markdown(response.content))\n",
    "\n"
   ]
  },
  {
   "cell_type": "code",
   "execution_count": 9,
   "id": "8f7c8ea8-4082-4ad0-8751-3301adcf6538",
   "metadata": {},
   "outputs": [
    {
     "data": {
      "text/markdown": [
       "**Binary Search**\n",
       "================\n",
       "\n",
       "### What is Binary Search?\n",
       "\n",
       "Binary search is an efficient algorithm for finding an item from a sorted list of items. It works by repeatedly dividing in half the portion of the list that could contain the item, until you've narrowed down the possible locations to just one.\n",
       "\n",
       "### How Does Binary Search Work?\n",
       "\n",
       "Here's a step-by-step explanation:\n",
       "\n",
       "1.  **Start with a sorted list**: The list must be sorted in ascending or descending order.\n",
       "2.  **Find the middle element**: Find the middle element of the current range of the list.\n",
       "3.  **Compare the target element**: Compare the target element to the middle element.\n",
       "    *   If they are equal, return the index of the middle element as the result.\n",
       "    *   If the target element is less than the middle element, repeat the process with the left half of the list.\n",
       "    *   If the target element is greater than the middle element, repeat the process with the right half of the list.\n",
       "4.  **Repeat until found or not found**: Continue this process until the target element is found or it's determined that the element is not in the list.\n",
       "\n",
       "### Example in Python\n",
       "\n",
       "Here's an example implementation of binary search in Python:\n",
       "\n",
       "```python\n",
       "def binary_search(arr, target):\n",
       "    \"\"\"\n",
       "    Searches for a target element in a sorted array using binary search.\n",
       "    \n",
       "    Args:\n",
       "        arr (list): A sorted list of elements.\n",
       "        target: The element to be searched.\n",
       "    \n",
       "    Returns:\n",
       "        int: The index of the target element if found. -1 otherwise.\n",
       "    \"\"\"\n",
       "\n",
       "    # Initialize the low and high pointers\n",
       "    low = 0\n",
       "    high = len(arr) - 1\n",
       "\n",
       "    while low <= high:\n",
       "        # Find the middle index\n",
       "        mid = (low + high) // 2\n",
       "        \n",
       "        # Compare the target element to the middle element\n",
       "        if arr[mid] == target:\n",
       "            return mid\n",
       "        elif arr[mid] < target:\n",
       "            # If the target element is greater than the middle element,\n",
       "            # repeat the process with the right half of the list\n",
       "            low = mid + 1\n",
       "        else:\n",
       "            # If the target element is less than the middle element,\n",
       "            # repeat the process with the left half of the list\n",
       "            high = mid - 1\n",
       "    \n",
       "    # If the target element is not found, return -1\n",
       "    return -1\n",
       "\n",
       "# Example usage:\n",
       "arr = [2, 5, 8, 12, 16, 23, 38, 56, 72, 91]\n",
       "target = 23\n",
       "\n",
       "result = binary_search(arr, target)\n",
       "\n",
       "if result != -1:\n",
       "    print(f\"Target element {target} found at index {result}.\")\n",
       "else:\n",
       "    print(f\"Target element {target} not found in the array.\")\n",
       "```\n",
       "\n",
       "### Time Complexity\n",
       "\n",
       "The time complexity of binary search is O(log n), where n is the number of elements in the list. This makes it much faster than linear search (O(n)) for large datasets.\n",
       "\n",
       "### Space Complexity\n",
       "\n",
       "The space complexity of binary search is O(1), as it only requires a constant amount of extra memory to store the pointers and indices."
      ],
      "text/plain": [
       "<IPython.core.display.Markdown object>"
      ]
     },
     "metadata": {},
     "output_type": "display_data"
    }
   ],
   "source": [
    "# Example\n",
    "ask_tutor(\"Explain binary search with an example in Python.\")"
   ]
  },
  {
   "cell_type": "markdown",
   "id": "d9067549-8b89-4664-87d7-fb06a538397e",
   "metadata": {},
   "source": [
    "# Using Stream "
   ]
  },
  {
   "cell_type": "code",
   "execution_count": 19,
   "id": "9374e0d2-47d8-4405-9167-2135b94da019",
   "metadata": {},
   "outputs": [],
   "source": [
    "from IPython.display import Markdown, display, update_display\n",
    "import ollama\n",
    "\n",
    "MODEL_LLAMA = \"llama3.2\"\n",
    "\n",
    "messages = [\n",
    "    {\"role\": \"system\", \"content\": \"You are a technical tutor. Always answer in Markdown.\"},\n",
    "    {\"role\": \"user\", \"content\": \"Explain binary search with an example in Python.\"}\n",
    "]"
   ]
  },
  {
   "cell_type": "code",
   "execution_count": 20,
   "id": "61c8a26f-a0f7-424c-a659-fe70bf4c1c5e",
   "metadata": {},
   "outputs": [],
   "source": [
    "def getLlamaResponse():\n",
    "    stream = ollama.chat(\n",
    "        model=MODEL_LLAMA,\n",
    "        messages=messages,\n",
    "        stream=True\n",
    "    )\n",
    "\n",
    "    response = \"\"\n",
    "    display_handle = display(Markdown(\"\"), display_id=True)\n",
    "\n",
    "    for chunk in stream:\n",
    "        content = chunk.get(\"message\", {}).get(\"content\", \"\")\n",
    "        response += content\n",
    "        update_display(Markdown(response), display_id=display_handle.display_id)\n",
    "\n",
    "    return response\n"
   ]
  },
  {
   "cell_type": "code",
   "execution_count": 21,
   "id": "55e90b63-e327-4ebc-90e2-6284086e6a75",
   "metadata": {},
   "outputs": [
    {
     "data": {
      "text/markdown": [
       "**Binary Search**\n",
       "================\n",
       "\n",
       "Binary search is an efficient algorithm for finding an item from a sorted list of items. It works by repeatedly dividing in half the portion of the list that could contain the item, until you've narrowed down the possible locations to just one.\n",
       "\n",
       "**How Binary Search Works**\n",
       "---------------------------\n",
       "\n",
       "1. Start with a sorted list of items.\n",
       "2. Find the middle element of the list.\n",
       "3. Compare the target element (the one we're searching for) to the middle element.\n",
       "4. If the target element is equal to the middle element, we've found it!\n",
       "5. If the target element is less than the middle element, repeat steps 2-4 with the left half of the list.\n",
       "6. If the target element is greater than the middle element, repeat steps 2-4 with the right half of the list.\n",
       "\n",
       "**Example in Python**\n",
       "--------------------\n",
       "\n",
       "```python\n",
       "def binary_search(arr, target):\n",
       "    \"\"\"\n",
       "    Searches for an item in a sorted array using binary search.\n",
       "\n",
       "    Args:\n",
       "        arr (list): The sorted array to search.\n",
       "        target: The item to search for.\n",
       "\n",
       "    Returns:\n",
       "        int: The index of the target item if found, -1 otherwise.\n",
       "    \"\"\"\n",
       "\n",
       "    # Initialize the low and high pointers\n",
       "    low = 0\n",
       "    high = len(arr) - 1\n",
       "\n",
       "    while low <= high:\n",
       "        # Calculate the middle index\n",
       "        mid = (low + high) // 2\n",
       "\n",
       "        # Compare the target element to the middle element\n",
       "        if arr[mid] == target:\n",
       "            return mid\n",
       "        elif arr[mid] < target:\n",
       "            # If the target is greater than the middle, search in the right half\n",
       "            low = mid + 1\n",
       "        else:\n",
       "            # If the target is less than the middle, search in the left half\n",
       "            high = mid - 1\n",
       "\n",
       "    # If we've reached this point, the target element was not found\n",
       "    return -1\n",
       "\n",
       "\n",
       "# Example usage:\n",
       "arr = [2, 4, 6, 8, 10, 12, 14, 16]\n",
       "target = 10\n",
       "\n",
       "result = binary_search(arr, target)\n",
       "\n",
       "if result != -1:\n",
       "    print(f\"Target {target} found at index {result}\")\n",
       "else:\n",
       "    print(f\"Target {target} not found in the array\")\n",
       "```\n",
       "\n",
       "**Time Complexity**\n",
       "------------------\n",
       "\n",
       "The time complexity of binary search is O(log n), where n is the number of elements in the sorted array. This is because with each comparison, we effectively halve the size of the search space.\n",
       "\n",
       "**Space Complexity**\n",
       "--------------------\n",
       "\n",
       "The space complexity of binary search is O(1) because we only use a constant amount of extra memory to store the low and high pointers."
      ],
      "text/plain": [
       "<IPython.core.display.Markdown object>"
      ]
     },
     "metadata": {},
     "output_type": "display_data"
    },
    {
     "data": {
      "text/plain": [
       "'**Binary Search**\\n================\\n\\nBinary search is an efficient algorithm for finding an item from a sorted list of items. It works by repeatedly dividing in half the portion of the list that could contain the item, until you\\'ve narrowed down the possible locations to just one.\\n\\n**How Binary Search Works**\\n---------------------------\\n\\n1. Start with a sorted list of items.\\n2. Find the middle element of the list.\\n3. Compare the target element (the one we\\'re searching for) to the middle element.\\n4. If the target element is equal to the middle element, we\\'ve found it!\\n5. If the target element is less than the middle element, repeat steps 2-4 with the left half of the list.\\n6. If the target element is greater than the middle element, repeat steps 2-4 with the right half of the list.\\n\\n**Example in Python**\\n--------------------\\n\\n```python\\ndef binary_search(arr, target):\\n    \"\"\"\\n    Searches for an item in a sorted array using binary search.\\n\\n    Args:\\n        arr (list): The sorted array to search.\\n        target: The item to search for.\\n\\n    Returns:\\n        int: The index of the target item if found, -1 otherwise.\\n    \"\"\"\\n\\n    # Initialize the low and high pointers\\n    low = 0\\n    high = len(arr) - 1\\n\\n    while low <= high:\\n        # Calculate the middle index\\n        mid = (low + high) // 2\\n\\n        # Compare the target element to the middle element\\n        if arr[mid] == target:\\n            return mid\\n        elif arr[mid] < target:\\n            # If the target is greater than the middle, search in the right half\\n            low = mid + 1\\n        else:\\n            # If the target is less than the middle, search in the left half\\n            high = mid - 1\\n\\n    # If we\\'ve reached this point, the target element was not found\\n    return -1\\n\\n\\n# Example usage:\\narr = [2, 4, 6, 8, 10, 12, 14, 16]\\ntarget = 10\\n\\nresult = binary_search(arr, target)\\n\\nif result != -1:\\n    print(f\"Target {target} found at index {result}\")\\nelse:\\n    print(f\"Target {target} not found in the array\")\\n```\\n\\n**Time Complexity**\\n------------------\\n\\nThe time complexity of binary search is O(log n), where n is the number of elements in the sorted array. This is because with each comparison, we effectively halve the size of the search space.\\n\\n**Space Complexity**\\n--------------------\\n\\nThe space complexity of binary search is O(1) because we only use a constant amount of extra memory to store the low and high pointers.'"
      ]
     },
     "execution_count": 21,
     "metadata": {},
     "output_type": "execute_result"
    }
   ],
   "source": [
    "getLlamaResponse()"
   ]
  },
  {
   "cell_type": "code",
   "execution_count": null,
   "id": "b5ab1663-628f-4043-817f-a2015b2e1aa1",
   "metadata": {},
   "outputs": [],
   "source": []
  }
 ],
 "metadata": {
  "kernelspec": {
   "display_name": "Python 3 (ipykernel)",
   "language": "python",
   "name": "python3"
  },
  "language_info": {
   "codemirror_mode": {
    "name": "ipython",
    "version": 3
   },
   "file_extension": ".py",
   "mimetype": "text/x-python",
   "name": "python",
   "nbconvert_exporter": "python",
   "pygments_lexer": "ipython3",
   "version": "3.11.13"
  }
 },
 "nbformat": 4,
 "nbformat_minor": 5
}
